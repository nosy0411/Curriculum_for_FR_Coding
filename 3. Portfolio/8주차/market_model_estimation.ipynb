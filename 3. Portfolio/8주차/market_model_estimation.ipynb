{
 "cells": [
  {
   "cell_type": "code",
   "execution_count": 12,
   "metadata": {
    "tags": []
   },
   "outputs": [
    {
     "output_type": "stream",
     "name": "stdout",
     "text": "[[1. 1.]\n [1. 2.]\n [1. 3.]\n [1. 4.]\n [1. 5.]\n [1. 6.]\n [1. 7.]]\n[1.28571429 0.35714286]\n"
    }
   ],
   "source": [
    "# 시장모형(market model, 단순선형회귀모형) 시장포트폴리오 수익률이라는 독립변수와 개별자산 수익률이라는 종속변수간의 관계를 나타냄\n",
    "# 체계적 위험(market risk, 시장상황은 모든 개별 주식의 수익률에 영향을 미치는 공통요인이다. 시장상황을 시장포트폴리오의 수익률로 측정하고 이 공통요인에 의한 변동은 포트폴리오를 구성한다고 피할 수 있는 위험이 아니다.)\n",
    "# 비체계적 위험(idiosyncratic risk,  개별기업특성요인(파업, 경영자의 능력 등등)과 같은 고유리스크에 의한 수익률 변동은 분산투자로 제거가능하다.)\n",
    "# Ri = alpha_i + beta_i*Rm + e_i 이 식을 증권특성선 (SCL이라고 함)\n",
    "# 여기서 잔차의 기댓값 E(e_i)=0 이므로 (가정) 개별자산의 기대수익률은 전적으로 시장포트폴리오의 기대수익률의 변화와 개별자산의 베타에 의해 결정된다. 개별주식의 기대수익률이 체계적 위험을 나타내는 베타에 의해 영향을 받는다.\n",
    "# E(Ri) = alpha_i + beta_i*E(Rm) 즉 여기서 알파 alpha_i는 시장수익률(Rm)이 0 이라는 전제 위에서 얻어지는 증권의 수익률에 대한 추정치이다.\n",
    "\n",
    "\n",
    "# 무위험 자산(risk free asset)이 존재한다고 가정. 초과수익률 E(Ri)-Rf : excess return 을 활용한 시장모형은 다음과 같다.\n",
    "# Ri - Rf = alpha + beta(Rm-Rf)\n",
    "# 여기서 알파는 젠센지수라고 하며 시장모형에서의 알파와는 달리 개별주식의 정상수익률을 넘어서는 비정상 수익률(abnormal return)을 의미\n",
    "\n",
    "# capm에서 가정하는 시장이 균형상태인 경우 비정상 수익률 alpha는 없다.\n",
    "# 따라서 단일 요인 선형 모델 CAPM에서 나온(유도는 mean-variance) 증권시장선(SML)이 성립하게 된다.\n",
    "# E(Ri) = Rf + beta(E(Rm)-Rf)\n",
    "# 즉, 개별자산의 리스크 프리미엄은 시장 포트폴리오의 리스크 프리미엄에 민감도인 베타(βi)만큼 비례한다.\n",
    "\n",
    "# Ri = Rf + beta(Rm-Rf) (기댓값 표시 생략)\n",
    "# Rm-Rf : market risk premium \n",
    "# Ri-Rf : individual risk premium\n",
    "# beta = sigma(i,m)/sigma^2(m)\n",
    "\n",
    "import numpy as np\n",
    "import statsmodels.api as sm\n",
    "# statsmodels 라이브러리는 일차원과 다차원에서 모두 사용 가능한 일반적인 최소 자승 회귀 계산을 위한 함수인 OLS 제공\n",
    "\n",
    "y=[1,2,3,4,2,3,4]\n",
    "x=range(1,8)\n",
    "\n",
    "# 상수항을 생성해줘야 함\n",
    "x=sm.add_constant(x)\n",
    "print(x)\n",
    "\n",
    "results=sm.OLS(y,x).fit()\n",
    "\n",
    "print(results.params)"
   ]
  },
  {
   "cell_type": "code",
   "execution_count": 13,
   "metadata": {
    "tags": []
   },
   "outputs": [
    {
     "output_type": "stream",
     "name": "stdout",
     "text": "OLS Regression Results                            \n==============================================================================\nDep. Variable:                      y   R-squared:                       0.481\nModel:                            OLS   Adj. R-squared:                  0.377\nMethod:                 Least Squares   F-statistic:                     4.630\nDate:                Wed, 22 Jul 2020   Prob (F-statistic):             0.0841\nTime:                        14:51:41   Log-Likelihood:                -7.8466\nNo. Observations:                   7   AIC:                             19.69\nDf Residuals:                       5   BIC:                             19.59\nDf Model:                           1                                         \nCovariance Type:            nonrobust                                         \n==============================================================================\n                 coef    std err          t      P>|t|      [0.025      0.975]\n------------------------------------------------------------------------------\nconst          1.2857      0.742      1.732      0.144      -0.622       3.194\nx1             0.3571      0.166      2.152      0.084      -0.070       0.784\n==============================================================================\nOmnibus:                          nan   Durbin-Watson:                   1.976\nProb(Omnibus):                    nan   Jarque-Bera (JB):                0.342\nSkew:                           0.289   Prob(JB):                        0.843\nKurtosis:                       2.083   Cond. No.                         10.4\n==============================================================================\n\nWarnings:\n[1] Standard Errors assume that the covariance matrix of the errors is correctly specified.\nC:\\Anaconda3\\lib\\site-packages\\statsmodels\\stats\\stattools.py:72: ValueWarning: omni_normtest is not valid with less than 8 observations; 7 samples were given.\n  \"samples were given.\" % int(n), ValueWarning)\n"
    }
   ],
   "source": [
    "print(results.summary())"
   ]
  },
  {
   "cell_type": "code",
   "execution_count": 14,
   "metadata": {
    "tags": []
   },
   "outputs": [
    {
     "output_type": "stream",
     "name": "stdout",
     "text": "0.29126075247731853 0.013684269354459173\nR-squared= 0.1478856629663111\np-value= 0.5227155239089462\n"
    }
   ],
   "source": [
    "from scipy import stats\n",
    "\n",
    "ret = [0.065, 0.0265, -0.0593, -0.001, 0.0346]\n",
    "mktRet = [0.055, -0.09, -0.041, 0.045, 0.022]\n",
    "\n",
    "(beta, alpha, r_value, p_value, std_err) = stats.linregress(mktRet,ret)\n",
    "\n",
    "print(beta, alpha)\n",
    "print(\"R-squared=\", r_value**2)\n",
    "print(\"p-value=\", p_value)"
   ]
  },
  {
   "cell_type": "code",
   "execution_count": 15,
   "metadata": {
    "tags": []
   },
   "outputs": [
    {
     "output_type": "stream",
     "name": "stdout",
     "text": "1.4265751563724283 0.0003920558010653227\nR-squared= 0.5332509422219164\np-value= 9.40278859443223e-205\n"
    }
   ],
   "source": [
    "# 삼성전자 2015년 부터 5년간 주가 부터 베타 계산해보기\n",
    "# 실제 시장데이터므로 시장균형상태 가정으로 부터 나온 capm을 적용한 sml식이 아니라 단순 시장 모형(market model)식임\n",
    "from scipy import stats\n",
    "import numpy as np\n",
    "import FinanceDataReader as fdr\n",
    "\n",
    "# 삼성전자 5년간 가격데이터\n",
    "Ri_df = fdr.DataReader('005930', '2015-01-01', '2019-12-31')\n",
    "\n",
    "\n",
    "# 로그 수익률(연속) 쓰는 이유 : 직관적\n",
    "retSamSung = np.log(Ri_df['Close']) - np.log(Ri_df['Close'].shift(1))\n",
    "# 이렇게 써도 됨.\n",
    "# retSamSung = np.log(Ri_df['Close'][1:]/Ri_df['Close'][:-1])\n",
    "retSamSung = retSamSung.dropna()\n",
    "\n",
    "# 시장(kospi 200) 5년간 지수값\n",
    "Rm_df = fdr.DataReader('KS200', '2015-01-01', '2019-12-31')\n",
    "retMkt = np.log(Rm_df['Close']) - np.log(Rm_df['Close'].shift(1))\n",
    "retMkt = retMkt.dropna()\n",
    "\n",
    "(beta, alpha, r_value, p_value, std_err) = stats.linregress(retMkt,retSamSung)\n",
    "\n",
    "print(beta, alpha)\n",
    "print(\"R-squared=\", r_value**2)\n",
    "print(\"p-value=\", p_value)\n"
   ]
  },
  {
   "cell_type": "code",
   "execution_count": 16,
   "metadata": {
    "tags": []
   },
   "outputs": [
    {
     "output_type": "stream",
     "name": "stdout",
     "text": "2015 -0.0001318 1.183 0.584 0.0\n2016 0.00103709 1.444 0.686 0.0\n2017 -0.00019517 1.774 0.768 0.0\n2018 0.00011713 1.394 0.776 0.0\n2019 0.00073902 1.471 0.862 0.0\n"
    }
   ],
   "source": [
    "# 시계열 베타, 예로 들어 5년간 베타 값 추이 알아보기\n",
    "\n",
    "import numpy as np\n",
    "import scipy as sp\n",
    "import pandas as pd\n",
    "from scipy import stats\n",
    "import datetime\n",
    "import FinanceDataReader as fdr\n",
    "\n",
    "# 삼성전자 5년간 가격데이터\n",
    "Ri_df = fdr.DataReader('005930', '2015-01-01', '2019-12-31')\n",
    "\n",
    "retSamSung = np.log(Ri_df['Close']) - np.log(Ri_df['Close'].shift(1))\n",
    "retSamSung = retSamSung.dropna()\n",
    "\n",
    "# 시장(kospi 200) 5년간 지수값\n",
    "Rm_df = fdr.DataReader('KS200', '2015-01-01', '2019-12-31')\n",
    "retMkt = np.log(Rm_df['Close']) - np.log(Rm_df['Close'].shift(1))\n",
    "retMkt = retMkt.dropna()\n",
    "\n",
    "date = Rm_df.index # pandas series\n",
    "# print(date[0].strftime(\"%Y\"))\n",
    "lag_year = date[0].strftime(\"%Y\")\n",
    "\n",
    "x1=[]\n",
    "y1=[]\n",
    "beta=[]\n",
    "\n",
    "for i in range(1,len(date)):\n",
    "    year = date[i].strftime(\"%Y\")\n",
    "\n",
    "    if (i==len(date)-1):\n",
    "        (beta, alpha, r_value, p_value, std_err) = stats.linregress(x1,y1)\n",
    "        alpha = round(alpha,8)\n",
    "        beta = round(beta, 3)\n",
    "        r_value = round(r_value, 3)\n",
    "        p_value = round(p_value, 3)\n",
    "        print(year, alpha, beta, r_value, p_value)\n",
    "    \n",
    "    elif (year==lag_year):\n",
    "        y1.append(retSamSung[i-1])\n",
    "        x1.append(retMkt[i-1])\n",
    "\n",
    "    else : \n",
    "        (beta, alpha, r_value, p_value, std_err) = stats.linregress(x1,y1)\n",
    "        alpha = round(alpha,8)\n",
    "        beta = round(beta, 3)\n",
    "        r_value = round(r_value, 3)\n",
    "        p_value = round(p_value, 3)\n",
    "        print(lag_year, alpha, beta, r_value, p_value)\n",
    "        x1=[]\n",
    "        y1=[]\n",
    "        lag_year=year\n"
   ]
  },
  {
   "cell_type": "code",
   "execution_count": 17,
   "metadata": {},
   "outputs": [],
   "source": [
    "# 그 이외 수정베타는 평균회귀 성질을 가진다. \n",
    "# 이번 주기 베타 값이 1보다 작으면 다음 주기 베타 값은 1보다 클 확률이 높아진다\n",
    "# 반대로 지금 베타 값이 1보다 크면 다음 베타 값은 1보다 작을 확률이 높아진다\n",
    "# 포트폴리오에 대한 베타 값은 포트폴리오 내 개별 주식들의 가중 베타 값을 계산해서 구할 수 있다.\n",
    "\n",
    "# 스콜스와 윌리엄 수정 베타\n",
    "# 딤슨(1979) 베타"
   ]
  },
  {
   "cell_type": "code",
   "execution_count": 18,
   "metadata": {
    "tags": []
   },
   "outputs": [
    {
     "output_type": "stream",
     "name": "stdout",
     "text": "Intercept    0.033646\nx1           0.379623\nx2           0.058881\nx3          -0.234175\ndtype: float64\n                            OLS Regression Results                            \n==============================================================================\nDep. Variable:                      y   R-squared:                       0.960\nModel:                            OLS   Adj. R-squared:                  0.841\nMethod:                 Least Squares   F-statistic:                     8.073\nDate:                Wed, 22 Jul 2020   Prob (F-statistic):              0.252\nTime:                        14:52:04   Log-Likelihood:                 16.837\nNo. Observations:                   5   AIC:                            -25.67\nDf Residuals:                       1   BIC:                            -27.24\nDf Model:                           3                                         \nCovariance Type:            nonrobust                                         \n==============================================================================\n                 coef    std err          t      P>|t|      [0.025      0.975]\n------------------------------------------------------------------------------\nIntercept      0.0336      0.013      2.518      0.241      -0.136       0.203\nx1             0.3796      0.153      2.488      0.243      -1.559       2.319\nx2             0.0589      0.160      0.368      0.775      -1.974       2.092\nx3            -0.2342      0.052     -4.524      0.139      -0.892       0.424\n==============================================================================\nOmnibus:                          nan   Durbin-Watson:                   0.656\nProb(Omnibus):                    nan   Jarque-Bera (JB):                0.119\nSkew:                          -0.130   Prob(JB):                        0.942\nKurtosis:                       2.292   Cond. No.                         19.9\n==============================================================================\n\nWarnings:\n[1] Standard Errors assume that the covariance matrix of the errors is correctly specified.\nC:\\Anaconda3\\lib\\site-packages\\statsmodels\\stats\\stattools.py:72: ValueWarning: omni_normtest is not valid with less than 8 observations; 5 samples were given.\n  \"samples were given.\" % int(n), ValueWarning)\n"
    }
   ],
   "source": [
    "# 3-factor 선형 모델. 다항 회귀 -> 발전시키면 파마프렌치모델 (시장수익률, 시가총액, PBR)\n",
    "# y = alpha + beta1*x1 + beta2*x2 + beta3*x3 + error\n",
    "\n",
    "# from pandas.stats.api import ols  는 0.20이후로 폐기됨 ㅠ\n",
    "import statsmodels.formula.api as sm\n",
    "import pandas as pd\n",
    "\n",
    "y = [0.065, 0.0265, -0.0593, -0.001, 0.0346]\n",
    "x1 = [0.055, -0.09, -0.041, 0.045, 0.022]\n",
    "x2 = [0.025, 0.10, 0.021, 0.145, 0.012]\n",
    "x3 = [0.015, -0.08, 0.341, 0.245, -0.022]\n",
    "df = pd.DataFrame({\"y\":y, \"x1\":x1, \"x2\":x2, \"x3\":x3})\n",
    "results = sm.ols(formula =\"y~x1+x2+x3\",data=df).fit()\n",
    "print(results.params)\n",
    "print(results.summary())\n"
   ]
  },
  {
   "cell_type": "code",
   "execution_count": null,
   "metadata": {},
   "outputs": [],
   "source": []
  }
 ],
 "metadata": {
  "language_info": {
   "codemirror_mode": {
    "name": "ipython",
    "version": 3
   },
   "file_extension": ".py",
   "mimetype": "text/x-python",
   "name": "python",
   "nbconvert_exporter": "python",
   "pygments_lexer": "ipython3",
   "version": 3
  },
  "orig_nbformat": 2,
  "kernelspec": {
   "name": "python_defaultSpec_1595393019253",
   "display_name": "Python 3.6.8 64-bit ('base': conda)"
  }
 },
 "nbformat": 4,
 "nbformat_minor": 2
}