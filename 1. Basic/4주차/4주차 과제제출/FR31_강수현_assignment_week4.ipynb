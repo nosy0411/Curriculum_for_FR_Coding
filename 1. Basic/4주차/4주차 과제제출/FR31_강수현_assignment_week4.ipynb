{
 "metadata": {
  "language_info": {
   "codemirror_mode": {
    "name": "ipython",
    "version": 3
   },
   "file_extension": ".py",
   "mimetype": "text/x-python",
   "name": "python",
   "nbconvert_exporter": "python",
   "pygments_lexer": "ipython3",
   "version": "3.6.8-final"
  },
  "orig_nbformat": 2,
  "kernelspec": {
   "name": "Python 3.6.8 64-bit (virtualenv)",
   "display_name": "Python 3.6.8 64-bit (virtualenv)",
   "metadata": {
    "interpreter": {
     "hash": "97ae724bfa85b9b34df7982b8bb8c7216f435b92902d749e4263f71162bea840"
    }
   }
  }
 },
 "nbformat": 4,
 "nbformat_minor": 2,
 "cells": [
  {
   "source": [
    "# 1. 딕셔너리 파일을 데이터프레임 파일로 바꾸시오( 노가다 X). \n",
    "#    그리고   \"DC\" 라는 단어만 나오게 인덱싱하시오. "
   ],
   "cell_type": "markdown",
   "metadata": {}
  },
  {
   "cell_type": "code",
   "execution_count": 6,
   "metadata": {},
   "outputs": [],
   "source": [
    "import pandas as pd\n",
    "data = {'Name':['Jay', 'Minsu', 'James', 'Jasmine', \"Aboo\" ],\n",
    "        'Age':[27, 24, 22, 32, 25],\n",
    "        'Address':['CA', 'NY', 'DC', 'Jeju', 'Seoul'],\n",
    "        'Qualification':['Msc', 'MA', 'MCA', 'Phd', 'MA']}"
   ]
  },
  {
   "cell_type": "code",
   "execution_count": 2,
   "metadata": {},
   "outputs": [
    {
     "output_type": "error",
     "ename": "NameError",
     "evalue": "name 'DataFrame' is not defined",
     "traceback": [
      "\u001b[1;31m---------------------------------------------------------------------------\u001b[0m",
      "\u001b[1;31mNameError\u001b[0m                                 Traceback (most recent call last)",
      "\u001b[1;32m<ipython-input-2-06ed91d8d65a>\u001b[0m in \u001b[0;36m<module>\u001b[1;34m\u001b[0m\n\u001b[0;32m      6\u001b[0m             'Qualification': ['Msc', 'MA', 'MCA', 'Phd', 'MA']}\n\u001b[0;32m      7\u001b[0m \u001b[1;33m\u001b[0m\u001b[0m\n\u001b[1;32m----> 8\u001b[1;33m \u001b[0mdata\u001b[0m \u001b[1;33m=\u001b[0m \u001b[0mDataFrame\u001b[0m\u001b[1;33m(\u001b[0m\u001b[0mraw_data\u001b[0m\u001b[1;33m)\u001b[0m\u001b[1;33m\u001b[0m\u001b[1;33m\u001b[0m\u001b[0m\n\u001b[0m\u001b[0;32m      9\u001b[0m \u001b[1;33m\u001b[0m\u001b[0m\n\u001b[0;32m     10\u001b[0m \u001b[1;33m\u001b[0m\u001b[0m\n",
      "\u001b[1;31mNameError\u001b[0m: name 'DataFrame' is not defined"
     ]
    }
   ],
   "source": [
    "# 해답\n",
    "import pandas as pd\n",
    "\n",
    "raw_data = {'Age': [27, 24, 22, 32, 25],\n",
    "            'Address': ['CA', 'NY', 'DC', 'Jeju', 'Seoul'],\n",
    "            'Qualification': ['Msc', 'MA', 'MCA', 'Phd', 'MA']}\n",
    "\n",
    "data = DataFrame(raw_data)\n",
    " \n",
    "\n",
    "data.index = ['Jay', 'Minsu', 'James', 'Jasmine', 'Aboo']    # 인덱스 이름 변경\n",
    "print(data)\n",
    "print(data.iloc[2, 1]) \n"
   ]
  },
  {
   "source": [
    "# 2. Age에서 가장 큰 숫자를 찾는 코드를 작성하시오.  결과가 Name 과 Age에 같이 나와야 합니다."
   ],
   "cell_type": "markdown",
   "metadata": {}
  },
  {
   "cell_type": "code",
   "execution_count": 8,
   "metadata": {},
   "outputs": [
    {
     "output_type": "error",
     "ename": "AttributeError",
     "evalue": "'dict' object has no attribute 'loc'",
     "traceback": [
      "\u001b[1;31m---------------------------------------------------------------------------\u001b[0m",
      "\u001b[1;31mAttributeError\u001b[0m                            Traceback (most recent call last)",
      "\u001b[1;32m<ipython-input-8-0f02dcd474d6>\u001b[0m in \u001b[0;36m<module>\u001b[1;34m\u001b[0m\n\u001b[0;32m      1\u001b[0m \u001b[1;31m# 해답\u001b[0m\u001b[1;33m\u001b[0m\u001b[1;33m\u001b[0m\u001b[1;33m\u001b[0m\u001b[0m\n\u001b[1;32m----> 2\u001b[1;33m \u001b[0mprint\u001b[0m\u001b[1;33m(\u001b[0m\u001b[0mdata\u001b[0m\u001b[1;33m.\u001b[0m\u001b[0mloc\u001b[0m\u001b[1;33m[\u001b[0m\u001b[0mdata\u001b[0m\u001b[1;33m.\u001b[0m\u001b[0mmax\u001b[0m\u001b[1;33m(\u001b[0m\u001b[1;34m'Age'\u001b[0m\u001b[1;33m)\u001b[0m\u001b[1;33m,\u001b[0m \u001b[1;33m:\u001b[0m\u001b[1;33m]\u001b[0m\u001b[1;33m)\u001b[0m\u001b[1;33m\u001b[0m\u001b[1;33m\u001b[0m\u001b[0m\n\u001b[0m\u001b[0;32m      3\u001b[0m \u001b[1;31m#모르겠습니다ㅠㅠ\u001b[0m\u001b[1;33m\u001b[0m\u001b[1;33m\u001b[0m\u001b[1;33m\u001b[0m\u001b[0m\n",
      "\u001b[1;31mAttributeError\u001b[0m: 'dict' object has no attribute 'loc'"
     ]
    }
   ],
   "source": [
    "# 해답\n",
    "print(data.loc[data.max('Age'), :])\n",
    "#모르겠습니다ㅠㅠ"
   ]
  },
  {
   "source": [
    "# 3. 25세 이상인 사람을 골라내기 위한 boolean array 조건을 만들어 \"Age_limit\" 이라는 변수에 저장하시오.\n",
    "#    Age_limit 이라는 변수를 이용해 데이터 프레임을 필터링 하고, 필터링한 데이터프레임을 \"Older_group\"이라고 저장한 후 프린트하시오."
   ],
   "cell_type": "markdown",
   "metadata": {}
  },
  {
   "cell_type": "code",
   "execution_count": 7,
   "metadata": {},
   "outputs": [
    {
     "output_type": "error",
     "ename": "TypeError",
     "evalue": "'>' not supported between instances of 'list' and 'int'",
     "traceback": [
      "\u001b[1;31m---------------------------------------------------------------------------\u001b[0m",
      "\u001b[1;31mTypeError\u001b[0m                                 Traceback (most recent call last)",
      "\u001b[1;32m<ipython-input-7-dc2cca6be4e8>\u001b[0m in \u001b[0;36m<module>\u001b[1;34m\u001b[0m\n\u001b[0;32m      1\u001b[0m \u001b[1;31m# 해답\u001b[0m\u001b[1;33m\u001b[0m\u001b[1;33m\u001b[0m\u001b[1;33m\u001b[0m\u001b[0m\n\u001b[1;32m----> 2\u001b[1;33m \u001b[0mAge_limit\u001b[0m \u001b[1;33m=\u001b[0m \u001b[0mdata\u001b[0m\u001b[1;33m[\u001b[0m\u001b[1;34m'Age'\u001b[0m\u001b[1;33m]\u001b[0m \u001b[1;33m>\u001b[0m \u001b[1;36m25\u001b[0m\u001b[1;33m\u001b[0m\u001b[1;33m\u001b[0m\u001b[0m\n\u001b[0m\u001b[0;32m      3\u001b[0m \u001b[0mOlder_group\u001b[0m \u001b[1;33m=\u001b[0m \u001b[0mdata\u001b[0m\u001b[1;33m.\u001b[0m\u001b[0mAge_limit\u001b[0m\u001b[1;33m(\u001b[0m\u001b[1;32mTrue\u001b[0m\u001b[1;33m)\u001b[0m\u001b[1;33m\u001b[0m\u001b[1;33m\u001b[0m\u001b[0m\n\u001b[0;32m      4\u001b[0m \u001b[0mprint\u001b[0m\u001b[1;33m(\u001b[0m\u001b[0mAge_limit\u001b[0m\u001b[1;33m)\u001b[0m\u001b[1;33m\u001b[0m\u001b[1;33m\u001b[0m\u001b[0m\n\u001b[0;32m      5\u001b[0m \u001b[0mprint\u001b[0m\u001b[1;33m(\u001b[0m\u001b[0mOlder_group\u001b[0m\u001b[1;33m)\u001b[0m\u001b[1;33m\u001b[0m\u001b[1;33m\u001b[0m\u001b[0m\n",
      "\u001b[1;31mTypeError\u001b[0m: '>' not supported between instances of 'list' and 'int'"
     ]
    }
   ],
   "source": [
    "# 해답\n",
    "Age_limit = data['Age'] > 25\n",
    "Older_group = data.Age_limit(True)         \n",
    "print(Age_limit)\n",
    "print(Older_group)"
   ]
  },
  {
   "source": [
    "# 4. 20대와 30대를 나누는 함수를 짠 뒤, 그 함수를 데이터프레임에 적용하여 Age에 있는 모든 값을 20대와 30대 중 하나로 변경하시오.\n",
    "#    바뀐 Age 변수 명을 \"Generation\"으로 교체하고 프린트하시오."
   ],
   "cell_type": "markdown",
   "metadata": {}
  },
  {
   "cell_type": "code",
   "execution_count": 100,
   "metadata": {},
   "outputs": [
    {
     "output_type": "stream",
     "name": "stdout",
     "text": [
      "       Generation Address Qualification\nJay            27      CA           Msc\nMinsu          24      NY            MA\nJames          22      DC           MCA\nAboo           25   Seoul            MA\n"
     ]
    }
   ],
   "source": [
    "# 해답\n",
    "\n",
    "D2 = data.loc[data['Age']<30, :]\n",
    "D2.rename(columns={x:y for x,y in zip(D2.columns, ['Generation', 'Address', 'Qualification'])}, inplace=True)\n",
    "print(D2)"
   ]
  },
  {
   "source": [
    "# 5.아래에 있는 mydata 에서 a열의 3번째 행 ( 인덱스 3번째 아님) 을 5로 바꾸고, 결과를 보기 위해 프린트하시오."
   ],
   "cell_type": "markdown",
   "metadata": {}
  },
  {
   "cell_type": "code",
   "execution_count": 82,
   "metadata": {},
   "outputs": [],
   "source": [
    "idx = pd.date_range('1/1/2000', periods=4, freq='T')\n",
    "mydata = pd.DataFrame(data=4 * [range(2)],\n",
    "                  index=idx,\n",
    "                  columns=['a', 'b'])"
   ]
  },
  {
   "cell_type": "code",
   "execution_count": 84,
   "metadata": {},
   "outputs": [
    {
     "output_type": "stream",
     "name": "stdout",
     "text": [
      "                     a  b\n2000-01-01 00:00:00  0  1\n2000-01-01 00:01:00  0  1\n2000-01-01 00:02:00  0  1\n2000-01-01 00:03:00  5  1\n"
     ]
    }
   ],
   "source": [
    "# 해답\n",
    "mydata.loc[4:5,'a'] = 5\n",
    "print(mydata)\n",
    "\n",
    "\n"
   ]
  },
  {
   "cell_type": "code",
   "execution_count": null,
   "metadata": {},
   "outputs": [],
   "source": [
    "  \n",
    "# 이 cell은 돌리지 말고, 아래와 같은 결과가 나오도록 Answer 란에 코드를 짜시오. ( 힌트 : resample('30S')  )\n",
    "  a  b\n",
    "a\n",
    "0   2000-01-01 00:00:00  0  1\n",
    "    2000-01-01 00:00:30  0  0\n",
    "    2000-01-01 00:01:00  0  1\n",
    "    2000-01-01 00:01:30  0  0\n",
    "    2000-01-01 00:02:00  0  0\n",
    "    2000-01-01 00:02:30  0  0\n",
    "    2000-01-01 00:03:00  0  1\n",
    "5   2000-01-01 00:02:00  5  1"
   ]
  },
  {
   "cell_type": "code",
   "execution_count": null,
   "metadata": {},
   "outputs": [],
   "source": [
    "# 해답"
   ]
  }
 ]
}