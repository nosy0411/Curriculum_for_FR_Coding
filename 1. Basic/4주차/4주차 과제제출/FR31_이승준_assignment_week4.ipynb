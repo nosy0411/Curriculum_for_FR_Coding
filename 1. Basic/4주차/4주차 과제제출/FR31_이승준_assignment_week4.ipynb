{
 "metadata": {
  "language_info": {
   "codemirror_mode": {
    "name": "ipython",
    "version": 3
   },
   "file_extension": ".py",
   "mimetype": "text/x-python",
   "name": "python",
   "nbconvert_exporter": "python",
   "pygments_lexer": "ipython3",
   "version": "3.8.3-final"
  },
  "orig_nbformat": 2,
  "kernelspec": {
   "name": "Python 3.8.3 64-bit (conda)",
   "display_name": "Python 3.8.3 64-bit (conda)",
   "metadata": {
    "interpreter": {
     "hash": "b3ba2566441a7c06988d0923437866b63cedc61552a5af99d1f4fb67d367b25f"
    }
   }
  }
 },
 "nbformat": 4,
 "nbformat_minor": 2,
 "cells": [
  {
   "source": [
    "# 1. 딕셔너리 파일을 데이터프레임 파일로 바꾸시오( 노가다 X). \n",
    "#    그리고   \"DC\" 라는 단어만 나오게 인덱싱하시오. "
   ],
   "cell_type": "markdown",
   "metadata": {}
  },
  {
   "cell_type": "code",
   "execution_count": null,
   "metadata": {},
   "outputs": [],
   "source": [
    "import pandas as pd\n",
    "data = {'Name':['Jay', 'Minsu', 'James', 'Jasmine', \"Aboo\" ],\n",
    "        'Age':[27, 24, 22, 32, 25],\n",
    "        'Address':['CA', 'NY', 'DC', 'Jeju', 'Seoul'],\n",
    "        'Qualification':['Msc', 'MA', 'MCA', 'Phd', 'MA']}"
   ]
  },
  {
   "cell_type": "code",
   "execution_count": 4,
   "metadata": {},
   "outputs": [
    {
     "output_type": "stream",
     "name": "stdout",
     "text": [
      "DC\n"
     ]
    }
   ],
   "source": [
    "# 해답\n",
    "import pandas as pd\n",
    "data = {'Name':['Jay', 'Minsu', 'James', 'Jasmine', \"Aboo\" ],\n",
    "        'Age':[27, 24, 22, 32, 25],\n",
    "        'Address':['CA', 'NY', 'DC', 'Jeju', 'Seoul'],\n",
    "        'Qualification':['Msc', 'MA', 'MCA', 'Phd', 'MA']}\n",
    "\n",
    "df = pd.DataFrame(data)\n",
    "print(df.iloc[2,2])\n"
   ]
  },
  {
   "source": [
    "# 2. Age에서 가장 큰 숫자를 찾는 코드를 작성하시오.  결과가 Name 과 Age에 같이 나와야 합니다."
   ],
   "cell_type": "markdown",
   "metadata": {}
  },
  {
   "cell_type": "code",
   "execution_count": 75,
   "metadata": {},
   "outputs": [
    {
     "output_type": "execute_result",
     "data": {
      "text/plain": [
       "Name             Jasmine\n",
       "Age                   32\n",
       "Address             Jeju\n",
       "Qualification        Phd\n",
       "Name: 3, dtype: object"
      ]
     },
     "metadata": {},
     "execution_count": 75
    }
   ],
   "source": [
    "import pandas as pd\n",
    "data = {'Name':['Jay', 'Minsu', 'James', 'Jasmine', \"Aboo\" ],\n",
    "        'Age':[27, 24, 22, 32, 25],\n",
    "        'Address':['CA', 'NY', 'DC', 'Jeju', 'Seoul'],\n",
    "        'Qualification':['Msc', 'MA', 'MCA', 'Phd', 'MA']}\n",
    "        \n",
    "df = pd.DataFrame(data)\n",
    "df.loc[df['Age'].idxmax()]\n"
   ]
  },
  {
   "source": [
    "# 3. 25세 이상인 사람을 골라내기 위한 boolean array 조건을 만들어 \"Age_limit\" 이라는 변수에 저장하시오.\n",
    "#    Age_limit 이라는 변수를 이용해 데이터 프레임을 필터링 하고, 필터링한 데이터프레임을 \"Older_group\"이라고 저장한 후 프린트하시오."
   ],
   "cell_type": "markdown",
   "metadata": {}
  },
  {
   "cell_type": "code",
   "execution_count": 78,
   "metadata": {},
   "outputs": [
    {
     "output_type": "execute_result",
     "data": {
      "text/plain": [
       "      Name  Age Address Qualification\n",
       "0      Jay   27      CA           Msc\n",
       "3  Jasmine   32    Jeju           Phd\n",
       "4     Aboo   25   Seoul            MA"
      ],
      "text/html": "<div>\n<style scoped>\n    .dataframe tbody tr th:only-of-type {\n        vertical-align: middle;\n    }\n\n    .dataframe tbody tr th {\n        vertical-align: top;\n    }\n\n    .dataframe thead th {\n        text-align: right;\n    }\n</style>\n<table border=\"1\" class=\"dataframe\">\n  <thead>\n    <tr style=\"text-align: right;\">\n      <th></th>\n      <th>Name</th>\n      <th>Age</th>\n      <th>Address</th>\n      <th>Qualification</th>\n    </tr>\n  </thead>\n  <tbody>\n    <tr>\n      <th>0</th>\n      <td>Jay</td>\n      <td>27</td>\n      <td>CA</td>\n      <td>Msc</td>\n    </tr>\n    <tr>\n      <th>3</th>\n      <td>Jasmine</td>\n      <td>32</td>\n      <td>Jeju</td>\n      <td>Phd</td>\n    </tr>\n    <tr>\n      <th>4</th>\n      <td>Aboo</td>\n      <td>25</td>\n      <td>Seoul</td>\n      <td>MA</td>\n    </tr>\n  </tbody>\n</table>\n</div>"
     },
     "metadata": {},
     "execution_count": 78
    }
   ],
   "source": [
    "import pandas as pd\n",
    "data = {'Name':['Jay', 'Minsu', 'James', 'Jasmine', \"Aboo\" ],\n",
    "        'Age':[27, 24, 22, 32, 25],\n",
    "        'Address':['CA', 'NY', 'DC', 'Jeju', 'Seoul'],\n",
    "        'Qualification':['Msc', 'MA', 'MCA', 'Phd', 'MA']}\n",
    "\n",
    "df = pd.DataFrame(data)\n",
    "Age_limit = df.loc[df['Age'] >= 25]\n",
    "Age_limit = Older_group\n",
    "Older_group"
   ]
  },
  {
   "source": [
    "# 4. 20대와 30대를 나누는 함수를 짠 뒤, 그 함수를 데이터프레임에 적용하여 Age에 있는 모든 값을 20대와 30대 중 하나로 변경하시오.\n",
    "#    바뀐 Age 변수 명을 \"Generation\"으로 교체하고 프린트하시오."
   ],
   "cell_type": "markdown",
   "metadata": {}
  },
  {
   "cell_type": "code",
   "execution_count": null,
   "metadata": {},
   "outputs": [],
   "source": [
    "import pandas as pd\n",
    "data = {'Name':['Jay', 'Minsu', 'James', 'Jasmine', \"Aboo\" ],\n",
    "        'Age':[27, 24, 22, 32, 25],\n",
    "        'Address':['CA', 'NY', 'DC', 'Jeju', 'Seoul'],\n",
    "        'Qualification':['Msc', 'MA', 'MCA', 'Phd', 'MA']}\n",
    "df = pd.DataFrame(data) \n",
    "\n",
    "apply(lambda x: x + 10 if x < 30 else x)"
   ]
  },
  {
   "source": [
    "# 5.아래에 있는 mydata 에서 a열의 3번째 행 ( 인덱스 3번째 아님) 을 5로 바꾸고, 결과를 보기 위해 프린트하시오."
   ],
   "cell_type": "markdown",
   "metadata": {}
  },
  {
   "cell_type": "code",
   "execution_count": 20,
   "metadata": {},
   "outputs": [
    {
     "output_type": "execute_result",
     "data": {
      "text/plain": [
       "                     a  b\n",
       "2000-01-01 00:00:00  0  1\n",
       "2000-01-01 00:01:00  0  1\n",
       "2000-01-01 00:02:00  0  1\n",
       "2000-01-01 00:03:00  0  1"
      ],
      "text/html": "<div>\n<style scoped>\n    .dataframe tbody tr th:only-of-type {\n        vertical-align: middle;\n    }\n\n    .dataframe tbody tr th {\n        vertical-align: top;\n    }\n\n    .dataframe thead th {\n        text-align: right;\n    }\n</style>\n<table border=\"1\" class=\"dataframe\">\n  <thead>\n    <tr style=\"text-align: right;\">\n      <th></th>\n      <th>a</th>\n      <th>b</th>\n    </tr>\n  </thead>\n  <tbody>\n    <tr>\n      <th>2000-01-01 00:00:00</th>\n      <td>0</td>\n      <td>1</td>\n    </tr>\n    <tr>\n      <th>2000-01-01 00:01:00</th>\n      <td>0</td>\n      <td>1</td>\n    </tr>\n    <tr>\n      <th>2000-01-01 00:02:00</th>\n      <td>0</td>\n      <td>1</td>\n    </tr>\n    <tr>\n      <th>2000-01-01 00:03:00</th>\n      <td>0</td>\n      <td>1</td>\n    </tr>\n  </tbody>\n</table>\n</div>"
     },
     "metadata": {},
     "execution_count": 20
    }
   ],
   "source": [
    "idx = pd.date_range('1/1/2000', periods=4, freq='T')\n",
    "mydata = pd.DataFrame(data=4 * [range(2)],\n",
    "                  index=idx,\n",
    "                  columns=['a', 'b'])\n",
    "\n",
    "mydata"
   ]
  },
  {
   "cell_type": "code",
   "execution_count": 77,
   "metadata": {},
   "outputs": [
    {
     "output_type": "execute_result",
     "data": {
      "text/plain": [
       "                     a  b\n",
       "2000-01-01 00:00:00  0  1\n",
       "2000-01-01 00:01:00  0  1\n",
       "2000-01-01 00:02:00  5  1\n",
       "2000-01-01 00:03:00  0  1"
      ],
      "text/html": "<div>\n<style scoped>\n    .dataframe tbody tr th:only-of-type {\n        vertical-align: middle;\n    }\n\n    .dataframe tbody tr th {\n        vertical-align: top;\n    }\n\n    .dataframe thead th {\n        text-align: right;\n    }\n</style>\n<table border=\"1\" class=\"dataframe\">\n  <thead>\n    <tr style=\"text-align: right;\">\n      <th></th>\n      <th>a</th>\n      <th>b</th>\n    </tr>\n  </thead>\n  <tbody>\n    <tr>\n      <th>2000-01-01 00:00:00</th>\n      <td>0</td>\n      <td>1</td>\n    </tr>\n    <tr>\n      <th>2000-01-01 00:01:00</th>\n      <td>0</td>\n      <td>1</td>\n    </tr>\n    <tr>\n      <th>2000-01-01 00:02:00</th>\n      <td>5</td>\n      <td>1</td>\n    </tr>\n    <tr>\n      <th>2000-01-01 00:03:00</th>\n      <td>0</td>\n      <td>1</td>\n    </tr>\n  </tbody>\n</table>\n</div>"
     },
     "metadata": {},
     "execution_count": 77
    }
   ],
   "source": [
    "idx = pd.date_range('1/1/2000', periods=4, freq='T')\n",
    "mydata = pd.DataFrame(data=4 * [range(2)],\n",
    "                  index=idx,\n",
    "                  columns=['a', 'b'])\n",
    "\n",
    "mydata.iloc[2, 0] = '5'\n",
    "mydata"
   ]
  }
 ]
}