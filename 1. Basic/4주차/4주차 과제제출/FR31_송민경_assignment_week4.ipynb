{
 "metadata": {
  "language_info": {
   "codemirror_mode": {
    "name": "ipython",
    "version": 3
   },
   "file_extension": ".py",
   "mimetype": "text/x-python",
   "name": "python",
   "nbconvert_exporter": "python",
   "pygments_lexer": "ipython3",
   "version": "3.8.3-final"
  },
  "orig_nbformat": 2,
  "kernelspec": {
   "name": "python3",
   "display_name": "Python 3"
  }
 },
 "nbformat": 4,
 "nbformat_minor": 2,
 "cells": [
  {
   "source": [
    "# 1. 딕셔너리 파일을 데이터프레임 파일로 바꾸시오( 노가다 X). \n",
    "#    그리고   \"DC\" 라는 단어만 나오게 인덱싱하시오. "
   ],
   "cell_type": "markdown",
   "metadata": {}
  },
  {
   "cell_type": "code",
   "execution_count": null,
   "metadata": {},
   "outputs": [],
   "source": [
    "import pandas as pd\n",
    "data = {'Name':['Jay', 'Minsu', 'James', 'Jasmine', \"Aboo\" ],\n",
    "        'Age':[27, 24, 22, 32, 25],\n",
    "        'Address':['CA', 'NY', 'DC', 'Jeju', 'Seoul'],\n",
    "        'Qualification':['Msc', 'MA', 'MCA', 'Phd', 'MA']}"
   ]
  },
  {
   "cell_type": "code",
   "execution_count": 90,
   "metadata": {},
   "outputs": [
    {
     "output_type": "stream",
     "name": "stdout",
     "text": [
      "      Name  Age Address Qualification\n0      Jay   27      CA           Msc\n1    Minsu   24      NY            MA\n2    James   22      DC           MCA\n3  Jasmine   32    Jeju           Phd\n4     Aboo   25   Seoul            MA\n2    DC\nName: Address, dtype: object\n"
     ]
    }
   ],
   "source": [
    "# 해답\n",
    "df = pd.DataFrame(data)\n",
    "print(df)\n",
    "\n",
    "print(df.loc['2':'2', 'Address'])\n"
   ]
  },
  {
   "source": [
    "# 2. Age에서 가장 큰 숫자를 찾는 코드를 작성하시오.  결과가 Name 과 Age에 같이 나와야 합니다."
   ],
   "cell_type": "markdown",
   "metadata": {}
  },
  {
   "cell_type": "code",
   "execution_count": 60,
   "metadata": {},
   "outputs": [
    {
     "output_type": "stream",
     "name": "stdout",
     "text": [
      "Name    Minsu\nAge        32\ndtype: object\n"
     ]
    }
   ],
   "source": [
    "# 해답\n",
    "print(df[['Name','Age']].max())"
   ]
  },
  {
   "source": [
    "# 3. 25세 이상인 사람을 골라내기 위한 boolean array 조건을 만들어 \"Age_limit\" 이라는 변수에 저장하시오.\n",
    "#    Age_limit 이라는 변수를 이용해 데이터 프레임을 필터링 하고, 필터링한 데이터프레임을 \"Older_group\"이라고 저장한 후 프린트하시오."
   ],
   "cell_type": "markdown",
   "metadata": {}
  },
  {
   "cell_type": "code",
   "execution_count": 73,
   "metadata": {},
   "outputs": [
    {
     "output_type": "stream",
     "name": "stdout",
     "text": [
      "      Name  Age Address Qualification Age_limit\n0      Jay   27      CA           Msc      True\n3  Jasmine   32    Jeju           Phd      True\n4     Aboo   25   Seoul            MA      True\n"
     ]
    }
   ],
   "source": [
    "# 해답\n",
    "Age_limit=df['Age']>24\n",
    "Older_group=df.loc[Age_limit]\n",
    "print(Older_group)"
   ]
  },
  {
   "source": [
    "# 4. 20대와 30대를 나누는 함수를 짠 뒤, 그 함수를 데이터프레임에 적용하여 Age에 있는 모든 값을 20대와 30대 중 하나로 변경하시오.\n",
    "#    바뀐 Age 변수 명을 \"Generation\"으로 교체하고 프린트하시오."
   ],
   "cell_type": "markdown",
   "metadata": {}
  },
  {
   "cell_type": "code",
   "execution_count": 86,
   "metadata": {},
   "outputs": [
    {
     "output_type": "execute_result",
     "data": {
      "text/plain": [
       "      Name  Generation Address Qualification Age_limit\n",
       "0      Jay          20      CA           Msc      True\n",
       "1    Minsu          20      NY            MA     False\n",
       "2    James          20      DC           MCA     False\n",
       "3  Jasmine          30    Jeju           Phd      True\n",
       "4     Aboo          20   Seoul            MA      True"
      ],
      "text/html": "<div>\n<style scoped>\n    .dataframe tbody tr th:only-of-type {\n        vertical-align: middle;\n    }\n\n    .dataframe tbody tr th {\n        vertical-align: top;\n    }\n\n    .dataframe thead th {\n        text-align: right;\n    }\n</style>\n<table border=\"1\" class=\"dataframe\">\n  <thead>\n    <tr style=\"text-align: right;\">\n      <th></th>\n      <th>Name</th>\n      <th>Generation</th>\n      <th>Address</th>\n      <th>Qualification</th>\n      <th>Age_limit</th>\n    </tr>\n  </thead>\n  <tbody>\n    <tr>\n      <th>0</th>\n      <td>Jay</td>\n      <td>20</td>\n      <td>CA</td>\n      <td>Msc</td>\n      <td>True</td>\n    </tr>\n    <tr>\n      <th>1</th>\n      <td>Minsu</td>\n      <td>20</td>\n      <td>NY</td>\n      <td>MA</td>\n      <td>False</td>\n    </tr>\n    <tr>\n      <th>2</th>\n      <td>James</td>\n      <td>20</td>\n      <td>DC</td>\n      <td>MCA</td>\n      <td>False</td>\n    </tr>\n    <tr>\n      <th>3</th>\n      <td>Jasmine</td>\n      <td>30</td>\n      <td>Jeju</td>\n      <td>Phd</td>\n      <td>True</td>\n    </tr>\n    <tr>\n      <th>4</th>\n      <td>Aboo</td>\n      <td>20</td>\n      <td>Seoul</td>\n      <td>MA</td>\n      <td>True</td>\n    </tr>\n  </tbody>\n</table>\n</div>"
     },
     "metadata": {},
     "execution_count": 86
    }
   ],
   "source": [
    "# 해답\n",
    "df.loc[df['Age']<30,'Age']=20\n",
    "df\n",
    "df.loc[df['Age']>30,'Age']=30\n",
    "df\n",
    "df.rename(columns={'Age':'Generation'},inplace= True)\n",
    "df\n",
    "\n"
   ]
  },
  {
   "source": [
    "# 5.아래에 있는 mydata 에서 a열의 3번째 행 ( 인덱스 3번째 아님) 을 5로 바꾸고, 결과를 보기 위해 프린트하시오."
   ],
   "cell_type": "markdown",
   "metadata": {}
  },
  {
   "cell_type": "code",
   "execution_count": 88,
   "metadata": {},
   "outputs": [
    {
     "output_type": "stream",
     "name": "stdout",
     "text": [
      "                     a  b\n2000-01-01 00:00:00  0  1\n2000-01-01 00:01:00  0  1\n2000-01-01 00:02:00  0  1\n2000-01-01 00:03:00  0  1\n"
     ]
    }
   ],
   "source": [
    "idx = pd.date_range('1/1/2000', periods=4, freq='T')\n",
    "mydata = pd.DataFrame(data=4 * [range(2)],\n",
    "                  index=idx,\n",
    "                  columns=['a', 'b'])\n",
    "print(mydata)"
   ]
  },
  {
   "cell_type": "code",
   "execution_count": 89,
   "metadata": {},
   "outputs": [
    {
     "output_type": "stream",
     "name": "stdout",
     "text": [
      "                     a  b\n2000-01-01 00:00:00  0  1\n2000-01-01 00:01:00  0  1\n2000-01-01 00:02:00  5  1\n2000-01-01 00:03:00  0  1\n"
     ]
    }
   ],
   "source": [
    "# 해답\n",
    "mydata['a'].iloc[2] = 5\n",
    "print(mydata)"
   ]
  },
  {
   "cell_type": "code",
   "execution_count": null,
   "metadata": {},
   "outputs": [],
   "source": [
    "  \n",
    "# 이 cell은 돌리지 말고, 아래와 같은 결과가 나오도록 Answer 란에 코드를 짜시오. ( 힌트 : resample('30S')  )\n",
    "  a  b\n",
    "a\n",
    "0   2000-01-01 00:00:00  0  1\n",
    "    2000-01-01 00:00:30  0  0\n",
    "    2000-01-01 00:01:00  0  1\n",
    "    2000-01-01 00:01:30  0  0\n",
    "    2000-01-01 00:02:00  0  0\n",
    "    2000-01-01 00:02:30  0  0\n",
    "    2000-01-01 00:03:00  0  1\n",
    "5   2000-01-01 00:02:00  5  1"
   ]
  },
  {
   "cell_type": "code",
   "execution_count": null,
   "metadata": {},
   "outputs": [],
   "source": [
    "# 해답\n",
    "idx = pd.date_range('1/1/2000', periods=4, freq='T')\n",
    "#모르겠습니다..."
   ]
  }
 ]
}