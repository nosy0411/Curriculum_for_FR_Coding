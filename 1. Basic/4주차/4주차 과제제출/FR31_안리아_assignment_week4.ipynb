{
 "metadata": {
  "language_info": {
   "codemirror_mode": {
    "name": "ipython",
    "version": 3
   },
   "file_extension": ".py",
   "mimetype": "text/x-python",
   "name": "python",
   "nbconvert_exporter": "python",
   "pygments_lexer": "ipython3",
   "version": "3.8.3-final"
  },
  "orig_nbformat": 2,
  "kernelspec": {
   "name": "python3",
   "display_name": "Python 3"
  }
 },
 "nbformat": 4,
 "nbformat_minor": 2,
 "cells": [
  {
   "source": [
    "# 1. 딕셔너리 파일을 데이터프레임 파일로 바꾸시오( 노가다 X). \n",
    "#    그리고   \"DC\" 라는 단어만 나오게 인덱싱하시오. "
   ],
   "cell_type": "markdown",
   "metadata": {}
  },
  {
   "cell_type": "code",
   "execution_count": 216,
   "metadata": {},
   "outputs": [],
   "source": [
    "import pandas as pd\n",
    "data = {'Name':['Jay', 'Minsu', 'James', 'Jasmine', \"Aboo\" ],\n",
    "        'Age':[27, 24, 22, 32, 25],\n",
    "        'Address':['CA', 'NY', 'DC', 'Jeju', 'Seoul'],\n",
    "        'Qualification':['Msc', 'MA', 'MCA', 'Phd', 'MA']}"
   ]
  },
  {
   "cell_type": "code",
   "execution_count": 217,
   "metadata": {},
   "outputs": [
    {
     "output_type": "stream",
     "name": "stdout",
     "text": [
      "      Name  Age Address Qualification\n0      Jay   27      CA           Msc\n1    Minsu   24      NY            MA\n2    James   22      DC           MCA\n3  Jasmine   32    Jeju           Phd\n4     Aboo   25   Seoul            MA \n\nDC\n"
     ]
    }
   ],
   "source": [
    "# 해답\n",
    "from pandas import Series, DataFrame\n",
    "df = DataFrame(data)\n",
    "print(df,\"\\n\")\n",
    "print(df.iloc[2,2]) "
   ]
  },
  {
   "source": [
    "# 2. Age에서 가장 큰 숫자를 찾는 코드를 작성하시오.  결과가 Name 과 Age에 같이 나와야 합니다."
   ],
   "cell_type": "markdown",
   "metadata": {}
  },
  {
   "cell_type": "code",
   "execution_count": 218,
   "metadata": {},
   "outputs": [
    {
     "output_type": "stream",
     "name": "stdout",
     "text": [
      "Name    Jasmine\nAge          32\nName: 3, dtype: object\n"
     ]
    }
   ],
   "source": [
    "# 해답\n",
    "a=df[\"Age\"].idxmax()\n",
    "print(df.loc[a,'Name':'Age'])\n"
   ]
  },
  {
   "source": [
    "# 3. 25세 이상인 사람을 골라내기 위한 boolean array 조건을 만들어 \"Age_limit\" 이라는 변수에 저장하시오.\n",
    "#    Age_limit 이라는 변수를 이용해 데이터 프레임을 필터링 하고, 필터링한 데이터프레임을 \"Older_group\"이라고 저장한 후 프린트하시오."
   ],
   "cell_type": "markdown",
   "metadata": {}
  },
  {
   "cell_type": "code",
   "execution_count": 219,
   "metadata": {},
   "outputs": [
    {
     "output_type": "stream",
     "name": "stdout",
     "text": [
      "      Name  Age Address Qualification\n0      Jay   27      CA           Msc\n3  Jasmine   32    Jeju           Phd\n4     Aboo   25   Seoul            MA\n"
     ]
    }
   ],
   "source": [
    "# 해답\n",
    "Age_limit=df.loc[df['Age']>=25,:]\n",
    "Older_group = Age_limit.dropna()\n",
    "print(Older_group)"
   ]
  },
  {
   "source": [
    "# 4. 20대와 30대를 나누는 함수를 짠 뒤, 그 함수를 데이터프레임에 적용하여 Age에 있는 모든 값을 20대와 30대 중 하나로 변경하시오.\n",
    "#    바뀐 Age 변수 명을 \"Generation\"으로 교체하고 프린트하시오."
   ],
   "cell_type": "markdown",
   "metadata": {}
  },
  {
   "cell_type": "code",
   "execution_count": 220,
   "metadata": {},
   "outputs": [
    {
     "output_type": "stream",
     "name": "stdout",
     "text": [
      "      Name Generation Address Qualification\n0      Jay        20s      CA           Msc\n1    Minsu        20s      NY            MA\n2    James        20s      DC           MCA\n3  Jasmine        30s    Jeju           Phd\n4     Aboo        20s   Seoul            MA\n"
     ]
    }
   ],
   "source": [
    "# 해답\n",
    "import numpy as np\n",
    "def age_gen():\n",
    "    df['Age'] = np.where(df[\"Age\"] < 30, '20s', '30s')\n",
    "    df2 = df.rename(columns= {'Age' : 'Generation'}, inplace = False )\n",
    "    print(df2)\n",
    "\n",
    "age_gen()"
   ]
  },
  {
   "source": [
    "# 5.아래에 있는 mydata 에서 a열의 3번째 행 ( 인덱스 3번째 아님) 을 5로 바꾸고, 결과를 보기 위해 프린트하시오."
   ],
   "cell_type": "markdown",
   "metadata": {}
  },
  {
   "cell_type": "code",
   "execution_count": 227,
   "metadata": {},
   "outputs": [],
   "source": [
    "idx = pd.date_range('1/1/2000', periods=4, freq='T')\n",
    "mydata = pd.DataFrame(data=4 * [range(2)],\n",
    "                  index=idx,\n",
    "                  columns=['a', 'b'])"
   ]
  },
  {
   "cell_type": "code",
   "execution_count": 228,
   "metadata": {},
   "outputs": [
    {
     "output_type": "stream",
     "name": "stdout",
     "text": [
      "                     a  b\n2000-01-01 00:00:00  0  1\n2000-01-01 00:01:00  0  1\n2000-01-01 00:02:00  5  1\n2000-01-01 00:03:00  0  1\n"
     ]
    }
   ],
   "source": [
    "# 해답\n",
    "mydata['a'].iloc[2]=5\n",
    "print(mydata)"
   ]
  },
  {
   "cell_type": "code",
   "execution_count": 223,
   "metadata": {},
   "outputs": [
    {
     "output_type": "error",
     "ename": "IndentationError",
     "evalue": "unexpected indent (<ipython-input-223-7ff254fc3d08>, line 2)",
     "traceback": [
      "\u001b[0;36m  File \u001b[0;32m\"<ipython-input-223-7ff254fc3d08>\"\u001b[0;36m, line \u001b[0;32m2\u001b[0m\n\u001b[0;31m    a  b\u001b[0m\n\u001b[0m    ^\u001b[0m\n\u001b[0;31mIndentationError\u001b[0m\u001b[0;31m:\u001b[0m unexpected indent\n"
     ]
    }
   ],
   "source": [
    "  \n",
    "# 이 cell은 돌리지 말고, 아래와 같은 결과가 나오도록 Answer 란에 코드를 짜시오. ( 힌트 : resample('30S')  )\n",
    "  a  b\n",
    "a\n",
    "0   2000-01-01 00:00:00  0  1\n",
    "    2000-01-01 00:00:30  0  0\n",
    "    2000-01-01 00:01:00  0  1\n",
    "    2000-01-01 00:01:30  0  0\n",
    "    2000-01-01 00:02:00  0  0\n",
    "    2000-01-01 00:02:30  0  0\n",
    "    2000-01-01 00:03:00  0  1\n",
    "5   2000-01-01 00:02:00  5  1"
   ]
  },
  {
   "cell_type": "code",
   "execution_count": 237,
   "metadata": {},
   "outputs": [
    {
     "output_type": "stream",
     "name": "stdout",
     "text": [
      "                       a    b\n2000-01-01 00:00:00  0.0  1.0\n2000-01-01 00:00:30  NaN  NaN\n2000-01-01 00:01:00  0.0  1.0\n2000-01-01 00:01:30  NaN  NaN\n2000-01-01 00:02:00  5.0  1.0\n2000-01-01 00:02:30  NaN  NaN\n2000-01-01 00:03:00  0.0  1.0\n"
     ]
    }
   ],
   "source": [
    "# 해답\n",
    "\n",
    "\n",
    "print(mydata.resample('30S').first())\n",
    "# print(\"Original DataFrame:\\n\") \n",
    "# print(mydata) \n",
    "# print(\"\\nModified Stlying DataFrame:\") \n",
    "# mydata.style.set_properties(**{'background-color': 'black', \n",
    "#                            'color': 'green'})\n"
   ]
  },
  {
   "cell_type": "code",
   "execution_count": null,
   "metadata": {},
   "outputs": [],
   "source": []
  }
 ]
}