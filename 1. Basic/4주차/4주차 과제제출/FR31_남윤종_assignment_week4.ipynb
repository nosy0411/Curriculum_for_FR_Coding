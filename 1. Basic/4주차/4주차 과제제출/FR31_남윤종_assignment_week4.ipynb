{
 "metadata": {
  "language_info": {
   "codemirror_mode": {
    "name": "ipython",
    "version": 3
   },
   "file_extension": ".py",
   "mimetype": "text/x-python",
   "name": "python",
   "nbconvert_exporter": "python",
   "pygments_lexer": "ipython3",
   "version": "3.8.3-final"
  },
  "orig_nbformat": 2,
  "kernelspec": {
   "name": "Python 3.8.3 64-bit (virtualenv)",
   "display_name": "Python 3.8.3 64-bit (virtualenv)",
   "metadata": {
    "interpreter": {
     "hash": "97ae724bfa85b9b34df7982b8bb8c7216f435b92902d749e4263f71162bea840"
    }
   }
  }
 },
 "nbformat": 4,
 "nbformat_minor": 2,
 "cells": [
  {
   "source": [
    "# 1. 딕셔너리 파일을 데이터프레임 파일로 바꾸시오( 노가다 X). \n",
    "#    그리고   \"DC\" 라는 단어만 나오게 인덱싱하시오. "
   ],
   "cell_type": "markdown",
   "metadata": {}
  },
  {
   "cell_type": "code",
   "execution_count": null,
   "metadata": {},
   "outputs": [],
   "source": [
    "import pandas as pd\n",
    "data = {'Name':['Jay', 'Minsu', 'James', 'Jasmine', \"Aboo\" ],\n",
    "        'Age':[27, 24, 22, 32, 25],\n",
    "        'Address':['CA', 'NY', 'DC', 'Jeju', 'Seoul'],\n",
    "        'Qualification':['Msc', 'MA', 'MCA', 'Phd', 'MA']}"
   ]
  },
  {
   "cell_type": "code",
   "execution_count": 198,
   "metadata": {},
   "outputs": [
    {
     "output_type": "stream",
     "name": "stdout",
     "text": [
      "      Name  Age Address Qualification\n0      Jay   27      CA           Msc\n1    Minsu   24      NY            MA\n2    James   22      DC           MCA\n3  Jasmine   32    Jeju           Phd\n4     Aboo   25   Seoul            MA\nDC\n"
     ]
    }
   ],
   "source": [
    "# 해답\n",
    "df=pd.DataFrame()\n",
    "a=list(data.values())\n",
    "b=list(data.keys())\n",
    "for x, y in zip(a, b):\n",
    "    df[y]=x\n",
    "print(df)\n",
    "print(df.loc[2,'Address'])"
   ]
  },
  {
   "source": [
    "# 2. Age에서 가장 큰 숫자를 찾는 코드를 작성하시오.  결과가 Name 과 Age에 같이 나와야 합니다."
   ],
   "cell_type": "markdown",
   "metadata": {}
  },
  {
   "cell_type": "code",
   "execution_count": 129,
   "metadata": {},
   "outputs": [
    {
     "output_type": "execute_result",
     "data": {
      "text/plain": [
       "      Name  Age Address Qualification\n",
       "3  Jasmine   32    Jeju           Phd"
      ],
      "text/html": "<div>\n<style scoped>\n    .dataframe tbody tr th:only-of-type {\n        vertical-align: middle;\n    }\n\n    .dataframe tbody tr th {\n        vertical-align: top;\n    }\n\n    .dataframe thead th {\n        text-align: right;\n    }\n</style>\n<table border=\"1\" class=\"dataframe\">\n  <thead>\n    <tr style=\"text-align: right;\">\n      <th></th>\n      <th>Name</th>\n      <th>Age</th>\n      <th>Address</th>\n      <th>Qualification</th>\n    </tr>\n  </thead>\n  <tbody>\n    <tr>\n      <th>3</th>\n      <td>Jasmine</td>\n      <td>32</td>\n      <td>Jeju</td>\n      <td>Phd</td>\n    </tr>\n  </tbody>\n</table>\n</div>"
     },
     "metadata": {},
     "execution_count": 129
    }
   ],
   "source": [
    "# 해답\n",
    "df.loc[df['Age']==df['Age'].max()]\n"
   ]
  },
  {
   "source": [
    "# 3. 25세 이상인 사람을 골라내기 위한 boolean array 조건을 만들어 \"Age_limit\" 이라는 변수에 저장하시오.\n",
    "#    Age_limit 이라는 변수를 이용해 데이터 프레임을 필터링 하고, 필터링한 데이터프레임을 \"Older_group\"이라고 저장한 후 프린트하시오."
   ],
   "cell_type": "markdown",
   "metadata": {}
  },
  {
   "cell_type": "code",
   "execution_count": 149,
   "metadata": {},
   "outputs": [
    {
     "output_type": "stream",
     "name": "stdout",
     "text": [
      "      Name  Age Address Qualification\n0      Jay   27      CA           Msc\n3  Jasmine   32    Jeju           Phd\n4     Aboo   25   Seoul            MA\n"
     ]
    }
   ],
   "source": [
    "# 해답\n",
    "Age_limit=df.loc[df['Age']>=25, :]\n",
    "Older_group=Age_limit\n",
    "print(Older_group)"
   ]
  },
  {
   "source": [
    "# 4. 20대와 30대를 나누는 함수를 짠 뒤, 그 함수를 데이터프레임에 적용하여 Age에 있는 모든 값을 20대와 30대 중 하나로 변경하시오.\n",
    "#    바뀐 Age 변수 명을 \"Generation\"으로 교체하고 프린트하시오."
   ],
   "cell_type": "markdown",
   "metadata": {}
  },
  {
   "cell_type": "code",
   "execution_count": 199,
   "metadata": {},
   "outputs": [
    {
     "output_type": "stream",
     "name": "stdout",
     "text": [
      "    Name  Age Address Qualification\n0    Jay   27      CA           Msc\n1  Minsu   24      NY            MA\n2  James   22      DC           MCA\n4   Aboo   25   Seoul            MA\n      Name  Age Address Qualification\n3  Jasmine   32    Jeju           Phd\n\n\n      Name  Generation Address Qualification\n0      Jay          20      CA           Msc\n1    Minsu          20      NY            MA\n2    James          20      DC           MCA\n3  Jasmine          30    Jeju           Phd\n4     Aboo          20   Seoul            MA\n"
     ]
    }
   ],
   "source": [
    "# 해답\n",
    "def div(x):\n",
    "    twenties=x.loc[x['Age']<30, :]\n",
    "    thirties=x.loc[x['Age']>=30, :]\n",
    "    print(twenties)\n",
    "    print(thirties)\n",
    "    print('\\n')\n",
    "    x.loc[twenties.index,'Age']=20\n",
    "    x.loc[thirties.index,'Age']=30\n",
    "\n",
    "div(df)\n",
    "df.rename(columns={x:y for x,y in zip(df.columns, ['Name', 'Generation', 'Address', 'Qualification'])}, inplace=True)\n",
    "\n",
    "print(df)\n",
    "\n",
    "\n"
   ]
  },
  {
   "source": [
    "# 5.아래에 있는 mydata 에서 a열의 3번째 행 ( 인덱스 3번째 아님) 을 5로 바꾸고, 결과를 보기 위해 프린트하시오."
   ],
   "cell_type": "markdown",
   "metadata": {}
  },
  {
   "cell_type": "code",
   "execution_count": 201,
   "metadata": {},
   "outputs": [],
   "source": [
    "idx = pd.date_range('1/1/2000', periods=4, freq='T')\n",
    "mydata = pd.DataFrame(data=4 * [range(2)],\n",
    "                  index=idx,\n",
    "                  columns=['a', 'b'])"
   ]
  },
  {
   "cell_type": "code",
   "execution_count": 205,
   "metadata": {},
   "outputs": [
    {
     "output_type": "stream",
     "name": "stdout",
     "text": [
      "                     a  b\n2000-01-01 00:00:00  0  1\n2000-01-01 00:01:00  0  1\n2000-01-01 00:02:00  5  1\n2000-01-01 00:03:00  0  1\n"
     ]
    }
   ],
   "source": [
    "# 해답\n",
    "mydata.loc['2000-01-01 00:02:00','a']=5\n",
    "print(mydata)"
   ]
  },
  {
   "cell_type": "code",
   "execution_count": 206,
   "metadata": {},
   "outputs": [
    {
     "output_type": "error",
     "ename": "IndentationError",
     "evalue": "unexpected indent (<ipython-input-206-7ff254fc3d08>, line 2)",
     "traceback": [
      "\u001b[1;36m  File \u001b[1;32m\"<ipython-input-206-7ff254fc3d08>\"\u001b[1;36m, line \u001b[1;32m2\u001b[0m\n\u001b[1;33m    a  b\u001b[0m\n\u001b[1;37m    ^\u001b[0m\n\u001b[1;31mIndentationError\u001b[0m\u001b[1;31m:\u001b[0m unexpected indent\n"
     ]
    }
   ],
   "source": [
    "  \n",
    "# 이 cell은 돌리지 말고, 아래와 같은 결과가 나오도록 Answer 란에 코드를 짜시오. ( 힌트 : resample('30S')  )\n",
    "  a  b\n",
    "a\n",
    "0   2000-01-01 00:00:00  0  1\n",
    "    2000-01-01 00:00:30  0  0\n",
    "    2000-01-01 00:01:00  0  1\n",
    "    2000-01-01 00:01:30  0  0\n",
    "    2000-01-01 00:02:00  0  0\n",
    "    2000-01-01 00:02:30  0  0\n",
    "    2000-01-01 00:03:00  0  1\n",
    "5   2000-01-01 00:02:00  5  1"
   ]
  },
  {
   "cell_type": "code",
   "execution_count": 211,
   "metadata": {},
   "outputs": [
    {
     "output_type": "execute_result",
     "data": {
      "text/plain": [
       "                       a    b\n",
       "2000-01-01 00:00:00  0.0  1.0\n",
       "2000-01-01 00:00:30  0.0  0.0\n",
       "2000-01-01 00:01:00  0.0  1.0\n",
       "2000-01-01 00:01:30  0.0  0.0\n",
       "2000-01-01 00:02:00  5.0  1.0\n",
       "2000-01-01 00:02:30  0.0  0.0\n",
       "2000-01-01 00:03:00  0.0  1.0"
      ],
      "text/html": "<div>\n<style scoped>\n    .dataframe tbody tr th:only-of-type {\n        vertical-align: middle;\n    }\n\n    .dataframe tbody tr th {\n        vertical-align: top;\n    }\n\n    .dataframe thead th {\n        text-align: right;\n    }\n</style>\n<table border=\"1\" class=\"dataframe\">\n  <thead>\n    <tr style=\"text-align: right;\">\n      <th></th>\n      <th>a</th>\n      <th>b</th>\n    </tr>\n  </thead>\n  <tbody>\n    <tr>\n      <th>2000-01-01 00:00:00</th>\n      <td>0.0</td>\n      <td>1.0</td>\n    </tr>\n    <tr>\n      <th>2000-01-01 00:00:30</th>\n      <td>0.0</td>\n      <td>0.0</td>\n    </tr>\n    <tr>\n      <th>2000-01-01 00:01:00</th>\n      <td>0.0</td>\n      <td>1.0</td>\n    </tr>\n    <tr>\n      <th>2000-01-01 00:01:30</th>\n      <td>0.0</td>\n      <td>0.0</td>\n    </tr>\n    <tr>\n      <th>2000-01-01 00:02:00</th>\n      <td>5.0</td>\n      <td>1.0</td>\n    </tr>\n    <tr>\n      <th>2000-01-01 00:02:30</th>\n      <td>0.0</td>\n      <td>0.0</td>\n    </tr>\n    <tr>\n      <th>2000-01-01 00:03:00</th>\n      <td>0.0</td>\n      <td>1.0</td>\n    </tr>\n  </tbody>\n</table>\n</div>"
     },
     "metadata": {},
     "execution_count": 211
    }
   ],
   "source": [
    "# 해답\n",
    "mda=mydata.resample(\"30S\").max()\n",
    "mda.fillna(value=0)"
   ]
  },
  {
   "cell_type": "code",
   "execution_count": null,
   "metadata": {},
   "outputs": [],
   "source": []
  }
 ]
}