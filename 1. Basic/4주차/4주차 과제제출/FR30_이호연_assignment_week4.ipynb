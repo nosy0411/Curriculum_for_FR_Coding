{
 "metadata": {
  "language_info": {
   "codemirror_mode": {
    "name": "ipython",
    "version": 3
   },
   "file_extension": ".py",
   "mimetype": "text/x-python",
   "name": "python",
   "nbconvert_exporter": "python",
   "pygments_lexer": "ipython3",
   "version": "3.8.3-final"
  },
  "orig_nbformat": 2,
  "kernelspec": {
   "name": "Python 3.8.3 64-bit (conda)",
   "display_name": "Python 3.8.3 64-bit (conda)",
   "metadata": {
    "interpreter": {
     "hash": "b3ba2566441a7c06988d0923437866b63cedc61552a5af99d1f4fb67d367b25f"
    }
   }
  }
 },
 "nbformat": 4,
 "nbformat_minor": 2,
 "cells": [
  {
   "source": [
    "# 1. 딕셔너리 파일을 데이터프레임 파일로 바꾸시오( 노가다 X). \n",
    "#    그리고   \"DC\" 라는 단어만 나오게 인덱싱하시오. "
   ],
   "cell_type": "markdown",
   "metadata": {}
  },
  {
   "cell_type": "code",
   "execution_count": 40,
   "metadata": {},
   "outputs": [
    {
     "output_type": "stream",
     "name": "stdout",
     "text": [
      "      Name  Age Address Qualification\n0      Jay   27      CA           Msc\n1    Minsu   24      NY            MA\n2    James   22      DC           MCA\n3  Jasmine   32    Jeju           Phd\n4     Aboo   25   Seoul            MA\n"
     ]
    }
   ],
   "source": [
    "import pandas as pd\n",
    "data = {'Name':['Jay', 'Minsu', 'James', 'Jasmine', \"Aboo\" ],\n",
    "        'Age':[27, 24, 22, 32, 25],\n",
    "        'Address':['CA', 'NY', 'DC', 'Jeju', 'Seoul'],\n",
    "        'Qualification':['Msc', 'MA', 'MCA', 'Phd', 'MA']}\n",
    "df = pd.DataFrame(data)\n",
    "print(df)"
   ]
  },
  {
   "cell_type": "code",
   "execution_count": 41,
   "metadata": {},
   "outputs": [
    {
     "output_type": "stream",
     "name": "stdout",
     "text": [
      "DC\n"
     ]
    }
   ],
   "source": [
    "# 해답\n",
    "df = pd.DataFrame(data)\n",
    "print(df['Address'].iloc[2])"
   ]
  },
  {
   "source": [
    "# 2. Age에서 가장 큰 숫자를 찾는 코드를 작성하시오.  결과가 Name 과 Age에 같이 나와야 합니다."
   ],
   "cell_type": "markdown",
   "metadata": {}
  },
  {
   "cell_type": "code",
   "execution_count": 42,
   "metadata": {},
   "outputs": [
    {
     "output_type": "stream",
     "name": "stdout",
     "text": [
      "      Name  Age\n3  Jasmine   32\n"
     ]
    }
   ],
   "source": [
    "# 해답\n",
    "df['rank_by_max'] = df['Age'].rank(method='max', ascending=False)\n",
    "print(df.loc[df['rank_by_max']==1.0,'Name':'Age'])"
   ]
  },
  {
   "source": [
    "# 3. 25세 이상인 사람을 골라내기 위한 boolean array 조건을 만들어 \"Age_limit\" 이라는 변수에 저장하시오.\n",
    "#    Age_limit 이라는 변수를 이용해 데이터 프레임을 필터링 하고, 필터링한 데이터프레임을 \"Older_group\"이라고 저장한 후 프린트하시오."
   ],
   "cell_type": "markdown",
   "metadata": {}
  },
  {
   "cell_type": "code",
   "execution_count": 43,
   "metadata": {},
   "outputs": [
    {
     "output_type": "stream",
     "name": "stdout",
     "text": [
      "      Name  Age Address Qualification  rank_by_max\n0      Jay   27      CA           Msc          2.0\n3  Jasmine   32    Jeju           Phd          1.0\n4     Aboo   25   Seoul            MA          3.0\n"
     ]
    }
   ],
   "source": [
    "# 해답\n",
    "Age_limit=df.loc[df['Age']>=25,:]\n",
    "Older_group=Age_limit.dropna()\n",
    "print(Older_group)"
   ]
  },
  {
   "source": [
    "# 4. 20대와 30대를 나누는 함수를 짠 뒤, 그 함수를 데이터프레임에 적용하여 Age에 있는 모든 값을 20대와 30대 중 하나로 변경하시오.\n",
    "#    바뀐 Age 변수 명을 \"Generation\"으로 교체하고 프린트하시오."
   ],
   "cell_type": "markdown",
   "metadata": {}
  },
  {
   "cell_type": "code",
   "execution_count": 44,
   "metadata": {},
   "outputs": [
    {
     "output_type": "stream",
     "name": "stdout",
     "text": [
      "      Name Generation Address Qualification  rank_by_max\n0      Jay        20대      CA           Msc          2.0\n1    Minsu        20대      NY            MA          4.0\n2    James        20대      DC           MCA          5.0\n3  Jasmine        30대    Jeju           Phd          1.0\n4     Aboo        20대   Seoul            MA          3.0\n"
     ]
    }
   ],
   "source": [
    "# 해답\n",
    "def OBYB():\n",
    "    for i in range (5):\n",
    "        if df['Age'].iloc[i]<30:\n",
    "            df['Age'].iloc[i]='20대'\n",
    "        else:\n",
    "            df['Age'].iloc[i]='30대'\n",
    "    df.columns=['Name','Generation','Address','Qualification','rank_by_max']\n",
    "    print(df)\n",
    "OBYB()\n"
   ]
  },
  {
   "source": [
    "# 5.아래에 있는 mydata 에서 a열의 3번째 행 ( 인덱스 3번째 아님) 을 5로 바꾸고, 결과를 보기 위해 프린트하시오."
   ],
   "cell_type": "markdown",
   "metadata": {}
  },
  {
   "cell_type": "code",
   "execution_count": 103,
   "metadata": {},
   "outputs": [
    {
     "output_type": "stream",
     "name": "stdout",
     "text": [
      "                     a  b\n2000-01-01 00:00:00  0  1\n2000-01-01 00:01:00  0  1\n2000-01-01 00:02:00  0  1\n2000-01-01 00:03:00  0  1\n"
     ]
    }
   ],
   "source": [
    "idx = pd.date_range('1/1/2000', periods=4, freq='T')\n",
    "mydata = pd.DataFrame(data=4 * [range(2)],\n",
    "                  index=idx,\n",
    "                  columns=['a', 'b'])\n",
    "print(mydata)"
   ]
  },
  {
   "cell_type": "code",
   "execution_count": 107,
   "metadata": {},
   "outputs": [
    {
     "output_type": "stream",
     "name": "stdout",
     "text": [
      "                     a  b\n2000-01-01 00:00:00  0  1\n2000-01-01 00:01:00  0  1\n2000-01-01 00:02:00  5  1\n2000-01-01 00:03:00  0  1\n"
     ]
    }
   ],
   "source": [
    "# 해답\n",
    "mydata['a'].iloc[2]=5\n",
    "print(mydata)"
   ]
  },
  {
   "cell_type": "code",
   "execution_count": null,
   "metadata": {},
   "outputs": [],
   "source": []
  }
 ]
}