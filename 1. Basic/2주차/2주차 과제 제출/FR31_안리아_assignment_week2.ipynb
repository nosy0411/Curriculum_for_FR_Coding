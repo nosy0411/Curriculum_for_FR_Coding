{
 "metadata": {
  "language_info": {
   "codemirror_mode": {
    "name": "ipython",
    "version": 3
   },
   "file_extension": ".py",
   "mimetype": "text/x-python",
   "name": "python",
   "nbconvert_exporter": "python",
   "pygments_lexer": "ipython3",
   "version": "3.8.3-final"
  },
  "orig_nbformat": 2,
  "kernelspec": {
   "name": "Python 3.8.3 64-bit ('anaconda3': virtualenv)",
   "display_name": "Python 3.8.3 64-bit ('anaconda3': virtualenv)",
   "metadata": {
    "interpreter": {
     "hash": "dca0ade3e726a953b501b15e8e990130d2b7799f14cfd9f4271676035ebe5511"
    }
   }
  }
 },
 "nbformat": 4,
 "nbformat_minor": 2,
 "cells": [
  {
   "cell_type": "markdown",
   "metadata": {},
   "source": [
    "# 1. 로또번호를 추출하는 함수를 만들어 보세요!\n",
    "\n",
    "로또번호는 1번부터 45번까지 복원추출 하지 않고 무작위 6개의 숫자로 이루어집니다!"
   ]
  },
  {
   "cell_type": "code",
   "execution_count": 16,
   "metadata": {
    "tags": []
   },
   "outputs": [
    {
     "output_type": "stream",
     "name": "stdout",
     "text": "[28 16  6 37 26 18]\n"
    }
   ],
   "source": [
    "# 과제 1 해답\n",
    "import numpy as np\n",
    "def generate_lottery_numbers():\n",
    "    return print(np.random.choice(np.arange(1,46), size=6, replace=False))\n",
    "\n",
    "generate_lottery_numbers()\n",
    "\n",
    "#피드백: 전체적으로 random 함수를 썼는데, 일반적인 상황에서는 numpy에 있는 random함수를 사용하는 것이 속도가 훨씬 빠르다.\n",
    "# import random\n",
    "# lotto = random.sample(range(1,46),6)\n",
    "# print(lotto)\n"
   ]
  },
  {
   "cell_type": "markdown",
   "metadata": {},
   "source": [
    "# 2. 몬테카를로 기법을 활용하여 원주율 구하기\n",
    "\n",
    "* 몬테카를로 기법: 무수히 많은 무작위 난수를 추출하여 원하는 값을 추정하는 방식\n",
    "* 전체 시도 횟수 = 10,000,000 번으로 고정\n",
    "* 아래 그림 참고   "
   ]
  },
  {
   "cell_type": "code",
   "execution_count": 1,
   "metadata": {},
   "outputs": [
    {
     "output_type": "execute_result",
     "data": {
      "image/gif": "[encoded data removed]",
      "text/plain": "&lt;IPython.core.display.Image object&gt;"
     },
     "metadata": {},
     "execution_count": 1
    }
   ],
   "source": [
    "from IPython.display import Image\n",
    "\n",
    "# 참고 이미지\n",
    "Image(\"./img/montecarlo_pi.gif\")"
   ]
  },
  {
   "cell_type": "code",
   "execution_count": 17,
   "metadata": {
    "tags": []
   },
   "outputs": [
    {
     "output_type": "execute_result",
     "data": {
      "text/plain": "3.1414972"
     },
     "metadata": {},
     "execution_count": 17
    }
   ],
   "source": [
    "# 과제 2 해답\n",
    "import numpy as np\n",
    "total = int(1e7)\n",
    "sample = np.random.rand(total,2)\n",
    "pi = np.sum(np.sum(sample**2,axis=1)<=1)/total*4\n",
    "pi\n",
    "\n",
    "# import random\n",
    "\n",
    "# n=10000000\n",
    "# count=0\n",
    "\n",
    "# for i in range(n):\n",
    "#   x=random.random()\n",
    "#   y=random.random()\n",
    "#   if(x**2 + y**2 < 1):\n",
    "#     count += 1\n",
    "\n",
    "# a = 4 * count / n\n",
    "# print(a)"
   ]
  },
  {
   "cell_type": "markdown",
   "metadata": {},
   "source": [
    "# 3. Convert a 1D array to 2D array with 2 rows\n",
    "\n",
    "For instance,\n",
    "\n",
    "Input: \\[0,1,2,3,4,5,6,7,8,9]\n",
    "\n",
    "Desired Output:\n",
    "\n",
    "(\\[\\[0,1,2,3,4\\],\n",
    "\n",
    "  \\[5,6,7,8,9\\]\\])"
   ]
  },
  {
   "cell_type": "code",
   "execution_count": 19,
   "metadata": {
    "tags": []
   },
   "outputs": [
    {
     "output_type": "execute_result",
     "data": {
      "text/plain": "array([[0, 1, 2, 3, 4],\n       [5, 6, 7, 8, 9]])"
     },
     "metadata": {},
     "execution_count": 19
    }
   ],
   "source": [
    "# 과제 3 해답\n",
    "import numpy as np\n",
    "arr = np.arange(10)\n",
    "arr.reshape(2,-1)  #np.reshape의 size에서 -1의 의미: column의 값을 자동으로 세팅해줌\n",
    "# import numpy as np\n",
    "# array = np.array([0,1, 2, 3, 4,5,6,7,8,9])\n",
    "# reshaped_to_2d = np.reshape(array, list((2, 5)))\n",
    "# print(reshaped_to_2d)"
   ]
  },
  {
   "cell_type": "markdown",
   "metadata": {},
   "source": [
    "# 4. 두 개의 np.array에서 공통된 것들을 추출하는 함수를 만드세요.\n",
    "\n",
    "Input\n",
    "\n",
    "a = np.array(\\[1,2,3,2,3,4,3,4,5,6\\])\n",
    "\n",
    "b = np.array(\\[7,2,10,2,7,4,9,4,9,8\\])\n",
    "\n",
    "Desired Output = (\\[2,4\\])"
   ]
  },
  {
   "cell_type": "code",
   "execution_count": 20,
   "metadata": {
    "tags": []
   },
   "outputs": [
    {
     "output_type": "stream",
     "name": "stdout",
     "text": "[2 4]\n"
    }
   ],
   "source": [
    "# 과제 4 해답\n",
    "import numpy as np\n",
    "a = np.array([1,2,3,2,3,4,3,4,5,6])\n",
    "b = np.array([7,2,10,2,7,4,9,4,9,8])\n",
    "#np.intersect1d(a,b)\n",
    "print(np.unique(np.array([x for x in a if x in b])))\n",
    "#print(list(set(a) & set(b)))\n"
   ]
  },
  {
   "source": [
    "# 5. 모든 값이 True인 3*3 numpy array를 만들어보세요"
   ],
   "cell_type": "markdown",
   "metadata": {}
  },
  {
   "cell_type": "code",
   "execution_count": 22,
   "metadata": {
    "tags": []
   },
   "outputs": [
    {
     "output_type": "stream",
     "name": "stdout",
     "text": "[[ True  True  True]\n [ True  True  True]\n [ True  True  True]]\n"
    }
   ],
   "source": [
    "# 과제 5 해답\n",
    "x = np.ones((3,3), dtype=bool)\n",
    "print (x)\n",
    "#dtype=bool빼먹지말기"
   ]
  },
  {
   "cell_type": "markdown",
   "metadata": {},
   "source": [
    "# 6. 주어진 array에서 짝수, 또는 홀수만 추출하세요\n",
    "\n",
    "Input = (\\[0,1,2,3,4,5,6,7,8,9\\])"
   ]
  },
  {
   "cell_type": "code",
   "execution_count": 4,
   "metadata": {
    "tags": []
   },
   "outputs": [
    {
     "output_type": "stream",
     "name": "stdout",
     "text": "[0 2 4 6 8]\n[1 3 5 7 9]\n"
    }
   ],
   "source": [
    "# 과제 6 해답\n",
    "Input = np.array([0,1,2,3,4,5,6,7,8,9])\n",
    "print(Input[Input%2==0])\n",
    "print(Input[Input%2==1])"
   ]
  },
  {
   "cell_type": "markdown",
   "metadata": {},
   "source": [
    "# 7. 모든 홀수를 -1로 바꾸세요.\n",
    "\n",
    "Input = (\\[0,1,2,3,4,5,6,7,8,9\\])"
   ]
  },
  {
   "cell_type": "code",
   "execution_count": 28,
   "metadata": {
    "tags": []
   },
   "outputs": [
    {
     "output_type": "stream",
     "name": "stdout",
     "text": "[ 0 -1  2 -1  4 -1  6 -1  8 -1]\n"
    }
   ],
   "source": [
    "# 과제 7 해답\n",
    "Input = np.array([0,1,2,3,4,5,6,7,8,9])\n",
    "print(np.where(Input%2==1,-1,Input))"
   ]
  },
  {
   "cell_type": "markdown",
   "metadata": {},
   "source": [
    "# 8. 주어진 array에서 5와 10 사이의 모든 수를 추출하세요  \n",
    "a = np.array(\\[2,6,1,9,10,3,27\\])"
   ]
  },
  {
   "cell_type": "code",
   "execution_count": 107,
   "metadata": {
    "tags": []
   },
   "outputs": [
    {
     "output_type": "stream",
     "name": "stdout",
     "text": "[ 6  9 10]\n"
    }
   ],
   "source": [
    "# 과제 8 해답\n",
    "a = np.array([2,6,1,9,10,3,27])\n",
    "print(a[np.where(np.logical_and(a>=5, a<=10))])"
   ]
  },
  {
   "cell_type": "markdown",
   "metadata": {},
   "source": [
    "# 9. 주어진 array의 숫자들의 순위로 이루어진 array를 출력하세요.\n",
    "\n",
    "Hint:argsort()를 활용하세요.\n",
    "\n",
    "argsort()는 작은 값부터 순서대로 데이터의 index를 반환해줍니다."
   ]
  },
  {
   "cell_type": "code",
   "execution_count": 35,
   "metadata": {
    "tags": []
   },
   "outputs": [
    {
     "output_type": "stream",
     "name": "stdout",
     "text": "[ 1  2  3  6  9 10 27]\n[3 9 1 7 0 8 2 5 4 6]\n[4 2 6 0 8 7 9 3 5 1]\n"
    }
   ],
   "source": [
    "# 과제 9 해답\n",
    "# 과제 8에 주어진 array 사용\n",
    "# a = np.array([2,6,1,9,10,3,27])\n",
    "# print(a[a.argsort()])\n",
    "\n",
    "np.random.seed(10)\n",
    "a = np.random.randint(20,size=10)\n",
    "\n",
    "print(a.argsort())\n",
    "print(a.argsort().argsort())"
   ]
  },
  {
   "cell_type": "code",
   "execution_count": null,
   "metadata": {},
   "outputs": [],
   "source": []
  }
 ]
}