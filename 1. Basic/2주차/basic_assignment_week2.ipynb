{
 "metadata": {
  "language_info": {
   "codemirror_mode": {
    "name": "ipython",
    "version": 3
   },
   "file_extension": ".py",
   "mimetype": "text/x-python",
   "name": "python",
   "nbconvert_exporter": "python",
   "pygments_lexer": "ipython3",
   "version": "3.7.6-final"
  },
  "orig_nbformat": 2,
  "kernelspec": {
   "name": "python_defaultSpec_1599476578632",
   "display_name": "Python 3.7.6 64-bit ('base': conda)"
  }
 },
 "nbformat": 4,
 "nbformat_minor": 2,
 "cells": [
  {
   "cell_type": "markdown",
   "metadata": {},
   "source": [
    "1번: 로또번호를 추출하는 함수를 만들어 보세요!\n",
    "\n",
    "로또번호는 1번부터 45번까지 복원추출 하지 않고 무작위 6개의 숫자로 이루어집니다!"
   ]
  },
  {
   "cell_type": "code",
   "execution_count": 1,
   "metadata": {},
   "outputs": [],
   "source": [
    "#1 Solution\n",
    "import numpy as np\n",
    "def generate_lottery_numbers():\n",
    "    return np.random.choice(np.arange(1,46), size=6, replace=False)\n"
   ]
  },
  {
   "cell_type": "markdown",
   "metadata": {},
   "source": [
    "2번: 몬테카를로 기법을 활용하여 원주율 구하기\n",
    "\n",
    "* 몬테카를로 기법: 무수히 많은 무작위 난수를 추출하여 원하는 값을 추정하는 방식\n",
    "* 전체 시도 횟수 = 10,000,000 번으로 고정\n",
    "* 아래 그림 참고   \n",
    "\n",
    "![montecarlo_pi](./montecarlo_pi.gif)"
   ]
  },
  {
   "cell_type": "code",
   "execution_count": null,
   "metadata": {},
   "outputs": [],
   "source": [
    "#2 Solution\n",
    "\n",
    "#비례식 세우기!\n",
    "# pi / 4 : 1 = 원 안에 들어간 횟수 : 전체 시도 횟수\n",
    "# pi = 4*(원 안에 들어간 횟수)/전체 시도 횟수\n",
    "import numpy as np\n",
    "total = int(1e7)\n",
    "sample = np.random.rand(total,2)\n",
    "pi = np.sum(np.sum(sample**2,axis=1)<=1)/total*4\n",
    "pi"
   ]
  },
  {
   "cell_type": "markdown",
   "metadata": {},
   "source": [
    "3 Convert a 1D array to 2D array with 2 rows\n",
    "\n",
    "For instance,\n",
    "\n",
    "Input: \\[0,1,2,3,4,5,6,7,8,9]\n",
    "\n",
    "Desired Output:\n",
    "\n",
    "(\\[\\[0,1,2,3,4\\],\n",
    "\n",
    "  \\[5,6,7,8,9\\]\\])"
   ]
  },
  {
   "cell_type": "code",
   "execution_count": null,
   "metadata": {},
   "outputs": [],
   "source": [
    "#3 Solution\n",
    "arr = np.arange(10)\n",
    "arr.reshape(2,-1)  #Setting to -1 autumatically decides the number of columns"
   ]
  },
  {
   "cell_type": "markdown",
   "metadata": {},
   "source": [
    "4. 두 개의 np.array에서 공통된 것들을 추출하는 함수를 만드세요.\n",
    "\n",
    "Input\n",
    "\n",
    "a = np.array(\\[1,2,3,2,3,4,3,4,5,6\\])\n",
    "\n",
    "b = np.array(\\[7,2,10,2,7,4,9,4,9,8\\])\n",
    "\n",
    "Desired Output = (\\[2,4\\])"
   ]
  },
  {
   "cell_type": "code",
   "execution_count": null,
   "metadata": {},
   "outputs": [],
   "source": [
    "#4 Solution - 1\n",
    "a = np.array([1,2,3,2,3,4,3,4,5,6])\n",
    "b = np.array([7,2,10,2,7,4,9,4,9,8])\n",
    "np.intersect1d(a,b)"
   ]
  },
  {
   "cell_type": "code",
   "execution_count": 8,
   "metadata": {},
   "outputs": [
    {
     "output_type": "execute_result",
     "data": {
      "text/plain": "array([2, 4])"
     },
     "metadata": {},
     "execution_count": 8
    }
   ],
   "source": [
    "#4 Solution - 2\n",
    "a = np.array([1,2,3,2,3,4,3,4,5,6])\n",
    "b = np.array([7,2,10,2,7,4,9,4,9,8])\n",
    "c= np.unique(np.array([x for x in a if x in b]))\n",
    "c\n"
   ]
  },
  {
   "cell_type": "markdown",
   "metadata": {},
   "source": [
    "#5 모든 값이 True인 3*3 numpy array를 만들어보세요"
   ]
  },
  {
   "cell_type": "code",
   "execution_count": 9,
   "metadata": {},
   "outputs": [
    {
     "output_type": "execute_result",
     "data": {
      "text/plain": "array([[ True,  True,  True],\n       [ True,  True,  True],\n       [ True,  True,  True]])"
     },
     "metadata": {},
     "execution_count": 9
    }
   ],
   "source": [
    "#5-1 Solution\n",
    "np.full((3,3),True,dtype=bool)\n",
    "\n",
    "#5-2 Solution\n",
    "np.ones((3,3),dtype=bool)"
   ]
  },
  {
   "cell_type": "markdown",
   "metadata": {},
   "source": [
    "#6 주어진 array에서 짝수, 또는 홀수만 추출하세요\n",
    "\n",
    "Input = (\\[0,1,2,3,4,5,6,7,8,9\\])"
   ]
  },
  {
   "cell_type": "code",
   "execution_count": null,
   "metadata": {},
   "outputs": [],
   "source": [
    "#6 Solution\n",
    "arr = np.array([0,1,2,3,4,5,6,7,8,9])\n",
    "Odd_number = arr[arr%2==1]"
   ]
  },
  {
   "cell_type": "markdown",
   "metadata": {},
   "source": [
    "#7 모든 홀수를 -1로 바꾸세요.\n",
    "\n",
    "Input = (\\[0,1,2,3,4,5,6,7,8,9\\])"
   ]
  },
  {
   "cell_type": "code",
   "execution_count": 10,
   "metadata": {},
   "outputs": [],
   "source": [
    "#7 Solution\n",
    "arr = np.array([0,1,2,3,4,5,6,7,8,9])\n",
    "arr[arr%2 == 1] = -1"
   ]
  },
  {
   "cell_type": "markdown",
   "metadata": {},
   "source": [
    "#8 주어진 array에서 5와 10 사이의 모든 수를 추출하세요  \n",
    "a = np.array(\\[2,6,1,9,10,3,27\\])"
   ]
  },
  {
   "cell_type": "code",
   "execution_count": 17,
   "metadata": {},
   "outputs": [
    {
     "output_type": "execute_result",
     "data": {
      "text/plain": "array([ 6,  9, 10])"
     },
     "metadata": {},
     "execution_count": 17
    }
   ],
   "source": [
    "#8 Solution\n",
    "#1)\n",
    "a[(a>=5) & (a<=10)]\n",
    "\n",
    "#2)\n",
    "index = np.where((a>=5)&(a<=10))\n",
    "a[index]\n"
   ]
  },
  {
   "cell_type": "markdown",
   "metadata": {},
   "source": [
    "#9 주어진 array의 숫자들의 순위로 이루어진 array를 출력하세요.\n",
    "\n",
    "Hint:argsort()를 활용하세요.\n",
    "\n",
    "argsort()는 작은 값부터 순서대로 데이터의 index를 반환해줍니다."
   ]
  },
  {
   "cell_type": "code",
   "execution_count": 18,
   "metadata": {
    "tags": []
   },
   "outputs": [
    {
     "output_type": "stream",
     "name": "stdout",
     "text": "[ 9  4 15  0 17 16 17  8  9  0]\n"
    }
   ],
   "source": [
    "#9\n",
    "np.random.seed(10)\n",
    "a = np.random.randint(20,size=10)\n",
    "#print(a)"
   ]
  },
  {
   "cell_type": "code",
   "execution_count": 20,
   "metadata": {
    "tags": []
   },
   "outputs": [
    {
     "output_type": "stream",
     "name": "stdout",
     "text": "[3 9 1 7 0 8 2 5 4 6]\n[4 2 6 0 8 7 9 3 5 1]\n"
    }
   ],
   "source": [
    "#9 Solution\n",
    "print(a.argsort())\n",
    "print(a.argsort().argsort())"
   ]
  }
 ]
}